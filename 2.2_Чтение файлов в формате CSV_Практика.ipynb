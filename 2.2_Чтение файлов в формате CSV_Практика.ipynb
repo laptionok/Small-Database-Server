{
  "nbformat": 4,
  "nbformat_minor": 0,
  "metadata": {
    "kernelspec": {
      "display_name": "Python 3",
      "language": "python",
      "name": "python3"
    },
    "language_info": {
      "codemirror_mode": {
        "name": "ipython",
        "version": 3
      },
      "file_extension": ".py",
      "mimetype": "text/x-python",
      "name": "python",
      "nbconvert_exporter": "python",
      "pygments_lexer": "ipython3",
      "version": "3.7.4"
    },
    "colab": {
      "provenance": [],
      "include_colab_link": true
    }
  },
  "cells": [
    {
      "cell_type": "markdown",
      "metadata": {
        "id": "view-in-github",
        "colab_type": "text"
      },
      "source": [
        "<a href=\"https://colab.research.google.com/github/laptionok/Small-Database-Server/blob/main/2.2_%D0%A7%D1%82%D0%B5%D0%BD%D0%B8%D0%B5%20%D1%84%D0%B0%D0%B9%D0%BB%D0%BE%D0%B2%20%D0%B2%20%D1%84%D0%BE%D1%80%D0%BC%D0%B0%D1%82%D0%B5%20CSV_%D0%9F%D1%80%D0%B0%D0%BA%D1%82%D0%B8%D0%BA%D0%B0.ipynb\" target=\"_parent\"><img src=\"https://colab.research.google.com/assets/colab-badge.svg\" alt=\"Open In Colab\"/></a>"
      ]
    },
    {
      "cell_type": "markdown",
      "metadata": {
        "id": "0IjWMBr-bEaW"
      },
      "source": [
        "# Чтение и запись данных\n"
      ]
    },
    {
      "cell_type": "code",
      "metadata": {
        "id": "uxDnEMa-bEaY"
      },
      "source": [
        "import pandas as pd"
      ],
      "execution_count": null,
      "outputs": []
    },
    {
      "cell_type": "markdown",
      "metadata": {
        "id": "HGo1RQEqbEac"
      },
      "source": [
        "## Урок 2. Чтение файлов в формате CSV\n",
        "\n",
        "### Практика\n",
        "\n",
        "#### Задание 1\n",
        "\n",
        "Откройте файл Practice1_1.csv, загрузите его в DataFrame с помощью библиотеки pandas и выведите первые 5 строк этого файла на экран. Выведите на экран название **предпоследнего** столбца этого файла. Обратите внимание, что при загрузке файла вам может потребоваться явно указать разделитель столбцов."
      ]
    },
    {
      "cell_type": "code",
      "metadata": {
        "id": "KJ475YH4bEac"
      },
      "source": [],
      "execution_count": null,
      "outputs": []
    },
    {
      "cell_type": "code",
      "metadata": {
        "id": "EuSnaIUYbEai"
      },
      "source": [],
      "execution_count": null,
      "outputs": []
    },
    {
      "cell_type": "markdown",
      "metadata": {
        "id": "RzPKh-d_bEal"
      },
      "source": [
        "#### Задание 2.\n",
        "\n",
        "Откройте файл Practice1_2.csv и загрузите его в DataFrame с помощью библиотеки pandas, указав правильный разделитель столбцов и выбрав столбец-индекс."
      ]
    },
    {
      "cell_type": "code",
      "metadata": {
        "id": "8uepvG0bbEan"
      },
      "source": [],
      "execution_count": null,
      "outputs": []
    },
    {
      "cell_type": "markdown",
      "metadata": {
        "id": "N1uR_1qQbEar"
      },
      "source": [
        "#### Задание 3\n",
        "\n",
        "Откройте файл Practice1_3.csv, загрузите его в DataFrame с помощью библиотеки pandas и выведите первые 5 строк этого файла на экран. Выведите на экран все записи, в которых значение температуры превышает 30 градусов. Обратите внимание, что вам может потребоваться явно указать разделитель столбцов."
      ]
    },
    {
      "cell_type": "code",
      "metadata": {
        "id": "HLZiNQ2rbEar"
      },
      "source": [],
      "execution_count": null,
      "outputs": []
    },
    {
      "cell_type": "code",
      "metadata": {
        "id": "8IJ-8GG3bEav"
      },
      "source": [],
      "execution_count": null,
      "outputs": []
    }
  ]
}